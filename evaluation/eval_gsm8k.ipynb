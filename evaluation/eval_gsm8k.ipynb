{
 "cells": [
  {
   "cell_type": "code",
   "metadata": {
    "vscode": {
     "languageId": "plaintext"
    }
   },
   "source": [
    "import os\n",
    "os.chdir(\"..\")\n",
    "\n",
    "from funchub.math import custom_round\n",
    "import re\n",
    "\n",
    "def parse_answer(answer, pattern:str=\"####\"):\n",
    "    if pattern==\"####\":\n",
    "        answer = answer.split(\"####\")[-1]\n",
    "        answer = answer.strip().strip(\"\\n\").strip('\\\\n')\n",
    "        # 32,333 -> 32333\n",
    "        answer = answer.replace(\",\", \"\")\n",
    "\n",
    "        # get the last number\n",
    "        try:\n",
    "            answer = re.findall(r\"[-+]?\\d*\\.\\d+|\\d+\", answer)[-1]\n",
    "        except:\n",
    "            answer = 0\n",
    "    elif pattern==\"enhanced_result\":\n",
    "        answer = answer.split(\"enhanced_result\")[-1]\n",
    "        answer = answer.strip().strip(\"\\n\").strip('\\\\n')\n",
    "\n",
    "        # 32,333 -> 32333\n",
    "        answer = answer.replace(\",\", \"\")\n",
    "\n",
    "        # get the last number\n",
    "        try:\n",
    "            answer = re.findall(r\"[-+]?\\d*\\.\\d+|\\d+\", answer)[-1]\n",
    "        except:\n",
    "            answer = 0\n",
    "\n",
    "    return answer\n",
    "\n",
    "def accuracy(pred, true, type = \"exact\"):\n",
    "    if len(pred) < len(true):\n",
    "        true = true[:len(pred)]\n",
    "\n",
    "    correct = 0\n",
    "    for p, t in zip(pred, true):\n",
    "        try:\n",
    "            if type == \"exact\":\n",
    "                if float(p) == float(t):\n",
    "                    correct += 1\n",
    "            elif type == \"round\":\n",
    "                if round(float(p), 2) == custom_round(float(t), 2):\n",
    "                    correct += 1\n",
    "            elif type == \"approx\":\n",
    "                # 1% error tolerance, e.g. 1000 -> 990 ~ 1010\n",
    "                if abs(float(p) - float(t)) <= abs(float(t)) * 0.001:\n",
    "                    correct += 1\n",
    "        except ValueError:\n",
    "            pass\n",
    "    \n",
    "    return correct / len(pred)"
   ],
   "outputs": [],
   "execution_count": null
  },
  {
   "metadata": {},
   "cell_type": "raw",
   "source": ""
  },
  {
   "metadata": {},
   "cell_type": "code",
   "source": [
    "import json\n",
    "\n",
    "target_path = \"data/gsm8k-xl/test.json\"\n",
    "eval_path = \"\"\n",
    "\n",
    "with open(target_path, \"r\") as f:\n",
    "    data = json.load(f)\n",
    "\n",
    "answer = [d[\"enhanced_result\"] for d in data]\n",
    "\n",
    "with open(eval_path, \"r\") as f:\n",
    "    data = [json.loads(line) for line in f]\n",
    "\n",
    "pred = [parse_answer(d[\"generation\"], pattern=\"####\") for d in data]\n",
    "\n",
    "print(pred)\n",
    "print(answer[:len(pred)])\n",
    "\n",
    "print(\"Accuracy: \", accuracy(pred, answer[:len(pred)], type=\"approx\"))"
   ],
   "outputs": [],
   "execution_count": null
  },
  {
   "metadata": {},
   "cell_type": "raw",
   "source": ""
  }
 ],
 "metadata": {
  "language_info": {
   "name": "python"
  },
  "kernelspec": {
   "name": "python3",
   "language": "python",
   "display_name": "Python 3 (ipykernel)"
  }
 },
 "nbformat": 4,
 "nbformat_minor": 2
}
